{
 "cells": [
  {
   "cell_type": "code",
   "execution_count": 204,
   "id": "479bb0b7-3e94-4104-9e79-e3769eb33c79",
   "metadata": {},
   "outputs": [],
   "source": [
    "import pandas as pd\n",
    "import numpy as np"
   ]
  },
  {
   "cell_type": "code",
   "execution_count": 205,
   "id": "82556250-9959-4115-9501-4da5f12f5ac1",
   "metadata": {},
   "outputs": [
    {
     "name": "stdout",
     "output_type": "stream",
     "text": [
      "Defaulting to user installation because normal site-packages is not writeable\n",
      "Requirement already satisfied: openpyxl in c:\\users\\akash pal\\appdata\\roaming\\python\\python311\\site-packages (3.1.2)\n",
      "Requirement already satisfied: et-xmlfile in c:\\users\\akash pal\\appdata\\roaming\\python\\python311\\site-packages (from openpyxl) (1.1.0)\n"
     ]
    },
    {
     "name": "stderr",
     "output_type": "stream",
     "text": [
      "\n",
      "[notice] A new release of pip is available: 23.2.1 -> 23.3.1\n",
      "[notice] To update, run: python.exe -m pip install --upgrade pip\n"
     ]
    }
   ],
   "source": [
    "!pip install openpyxl"
   ]
  },
  {
   "cell_type": "code",
   "execution_count": 206,
   "id": "4efc6f5f-5fc9-428f-a0ed-552a364d1b4b",
   "metadata": {},
   "outputs": [],
   "source": [
    "df=pd.read_excel('Mood_sentiment.xlsx')"
   ]
  },
  {
   "cell_type": "code",
   "execution_count": 207,
   "id": "5da4a129-15be-48ee-9645-8249e7d489f7",
   "metadata": {},
   "outputs": [
    {
     "data": {
      "text/html": [
       "<div>\n",
       "<style scoped>\n",
       "    .dataframe tbody tr th:only-of-type {\n",
       "        vertical-align: middle;\n",
       "    }\n",
       "\n",
       "    .dataframe tbody tr th {\n",
       "        vertical-align: top;\n",
       "    }\n",
       "\n",
       "    .dataframe thead th {\n",
       "        text-align: right;\n",
       "    }\n",
       "</style>\n",
       "<table border=\"1\" class=\"dataframe\">\n",
       "  <thead>\n",
       "    <tr style=\"text-align: right;\">\n",
       "      <th></th>\n",
       "      <th>sentences</th>\n",
       "      <th>sentiment</th>\n",
       "    </tr>\n",
       "  </thead>\n",
       "  <tbody>\n",
       "    <tr>\n",
       "      <th>0</th>\n",
       "      <td>Kindness ripples through my actions, creating ...</td>\n",
       "      <td>positive</td>\n",
       "    </tr>\n",
       "    <tr>\n",
       "      <th>1</th>\n",
       "      <td>Every challenge I face is an opportunity for g...</td>\n",
       "      <td>positive</td>\n",
       "    </tr>\n",
       "    <tr>\n",
       "      <th>2</th>\n",
       "      <td>Gratitude fills my heart for the simple pleasu...</td>\n",
       "      <td>positive</td>\n",
       "    </tr>\n",
       "    <tr>\n",
       "      <th>3</th>\n",
       "      <td>I am a beacon of positivity, radiating joy to ...</td>\n",
       "      <td>positive</td>\n",
       "    </tr>\n",
       "    <tr>\n",
       "      <th>4</th>\n",
       "      <td>The laughter of loved ones is music to my soul.</td>\n",
       "      <td>positive</td>\n",
       "    </tr>\n",
       "    <tr>\n",
       "      <th>...</th>\n",
       "      <td>...</td>\n",
       "      <td>...</td>\n",
       "    </tr>\n",
       "    <tr>\n",
       "      <th>559</th>\n",
       "      <td>The ache in my heart is a constant companion.</td>\n",
       "      <td>negative</td>\n",
       "    </tr>\n",
       "    <tr>\n",
       "      <th>560</th>\n",
       "      <td>The days pass in a monotonous haze of dissatis...</td>\n",
       "      <td>negative</td>\n",
       "    </tr>\n",
       "    <tr>\n",
       "      <th>561</th>\n",
       "      <td>I'm enveloped in a cloud of apathy and indiffe...</td>\n",
       "      <td>negative</td>\n",
       "    </tr>\n",
       "    <tr>\n",
       "      <th>562</th>\n",
       "      <td>The weight of regret is a burden I carry with ...</td>\n",
       "      <td>negative</td>\n",
       "    </tr>\n",
       "    <tr>\n",
       "      <th>563</th>\n",
       "      <td>It feels like I'm running in place, making no ...</td>\n",
       "      <td>negative</td>\n",
       "    </tr>\n",
       "  </tbody>\n",
       "</table>\n",
       "<p>564 rows × 2 columns</p>\n",
       "</div>"
      ],
      "text/plain": [
       "                                             sentences sentiment\n",
       "0    Kindness ripples through my actions, creating ...  positive\n",
       "1    Every challenge I face is an opportunity for g...  positive\n",
       "2    Gratitude fills my heart for the simple pleasu...  positive\n",
       "3    I am a beacon of positivity, radiating joy to ...  positive\n",
       "4      The laughter of loved ones is music to my soul.  positive\n",
       "..                                                 ...       ...\n",
       "559      The ache in my heart is a constant companion.  negative\n",
       "560  The days pass in a monotonous haze of dissatis...  negative\n",
       "561  I'm enveloped in a cloud of apathy and indiffe...  negative\n",
       "562  The weight of regret is a burden I carry with ...  negative\n",
       "563  It feels like I'm running in place, making no ...  negative\n",
       "\n",
       "[564 rows x 2 columns]"
      ]
     },
     "execution_count": 207,
     "metadata": {},
     "output_type": "execute_result"
    }
   ],
   "source": [
    "df"
   ]
  },
  {
   "cell_type": "code",
   "execution_count": 208,
   "id": "9c36a696-1795-4969-ba38-c334f01bb2ef",
   "metadata": {},
   "outputs": [
    {
     "data": {
      "text/plain": [
       "(564, 2)"
      ]
     },
     "execution_count": 208,
     "metadata": {},
     "output_type": "execute_result"
    }
   ],
   "source": [
    "df.shape"
   ]
  },
  {
   "cell_type": "code",
   "execution_count": 209,
   "id": "04474647-aaf4-4bf1-9f86-c86ce85211a3",
   "metadata": {},
   "outputs": [
    {
     "data": {
      "text/plain": [
       "sentences    0\n",
       "sentiment    0\n",
       "dtype: int64"
      ]
     },
     "execution_count": 209,
     "metadata": {},
     "output_type": "execute_result"
    }
   ],
   "source": [
    "df.isnull().sum()"
   ]
  },
  {
   "cell_type": "code",
   "execution_count": 210,
   "id": "0dbeda6e-1c45-4cc1-acbd-3f9184c06cba",
   "metadata": {},
   "outputs": [
    {
     "data": {
      "text/plain": [
       "219"
      ]
     },
     "execution_count": 210,
     "metadata": {},
     "output_type": "execute_result"
    }
   ],
   "source": [
    "df.duplicated().sum()"
   ]
  },
  {
   "cell_type": "code",
   "execution_count": 211,
   "id": "1daae361-b958-45a2-895b-4d6c918c85b6",
   "metadata": {},
   "outputs": [],
   "source": [
    "df.drop_duplicates(inplace=True)"
   ]
  },
  {
   "cell_type": "code",
   "execution_count": 212,
   "id": "33c653a3-b3ba-4df1-a866-be64a157b85d",
   "metadata": {},
   "outputs": [
    {
     "data": {
      "text/plain": [
       "0"
      ]
     },
     "execution_count": 212,
     "metadata": {},
     "output_type": "execute_result"
    }
   ],
   "source": [
    "df.duplicated().sum()"
   ]
  },
  {
   "cell_type": "code",
   "execution_count": 213,
   "id": "d2ce986c-1db3-4de6-bf2e-6a19cc1372cb",
   "metadata": {},
   "outputs": [],
   "source": [
    "# Basic Preprocessing\n",
    "# Lowercase\n",
    "# Remove Stopwords\n",
    "# Stemming"
   ]
  },
  {
   "cell_type": "code",
   "execution_count": 214,
   "id": "3e49e96c-184d-4b6c-a127-f9161ac8eceb",
   "metadata": {},
   "outputs": [],
   "source": [
    "import re"
   ]
  },
  {
   "cell_type": "code",
   "execution_count": 215,
   "id": "ef306db1-2322-4608-8375-f89a9787e67d",
   "metadata": {},
   "outputs": [],
   "source": [
    "def remove_tags(raw_text):\n",
    "    cleaned_text= re.sub(re.compile('<.*?>'),\"\",raw_text)\n",
    "    return cleaned_text"
   ]
  },
  {
   "cell_type": "code",
   "execution_count": 216,
   "id": "a18b6daa-c7a1-4f69-9245-46f5803c028e",
   "metadata": {},
   "outputs": [],
   "source": [
    "df['sentences']= df['sentences'].apply(remove_tags)"
   ]
  },
  {
   "cell_type": "code",
   "execution_count": 217,
   "id": "991dbcd6-18a1-4acb-8d45-224ea3382711",
   "metadata": {},
   "outputs": [
    {
     "data": {
      "text/plain": [
       "0      Kindness ripples through my actions, creating ...\n",
       "1      Every challenge I face is an opportunity for g...\n",
       "2      Gratitude fills my heart for the simple pleasu...\n",
       "3      I am a beacon of positivity, radiating joy to ...\n",
       "4        The laughter of loved ones is music to my soul.\n",
       "                             ...                        \n",
       "468    Each step forward is met with doubt and uncert...\n",
       "470    It feels like I'm wandering through a maze wit...\n",
       "473    The days pass in a monotonous haze of dissatis...\n",
       "475    The weight of regret is a burden I carry with ...\n",
       "476    It feels like I'm running in place, making no ...\n",
       "Name: sentences, Length: 345, dtype: object"
      ]
     },
     "execution_count": 217,
     "metadata": {},
     "output_type": "execute_result"
    }
   ],
   "source": [
    "df['sentences']"
   ]
  },
  {
   "cell_type": "code",
   "execution_count": 218,
   "id": "9264a1ee-6094-41ad-9432-fdbb5d4f9028",
   "metadata": {},
   "outputs": [],
   "source": [
    "import nltk"
   ]
  },
  {
   "cell_type": "code",
   "execution_count": 219,
   "id": "e34a46bb-f926-4f16-aa48-1b0c3005e798",
   "metadata": {},
   "outputs": [],
   "source": [
    "from nltk.corpus import stopwords\n",
    "sw_list=stopwords.words('english')\n",
    "df[\"sentences\"]= df[\"sentences\"].apply(lambda x: [item for item in x.split() if item not in sw_list]).apply(lambda x:\" \".join(x))"
   ]
  },
  {
   "cell_type": "code",
   "execution_count": 220,
   "id": "a6804546-3101-445a-beb4-7f6ac4c9c0d5",
   "metadata": {},
   "outputs": [
    {
     "data": {
      "text/html": [
       "<div>\n",
       "<style scoped>\n",
       "    .dataframe tbody tr th:only-of-type {\n",
       "        vertical-align: middle;\n",
       "    }\n",
       "\n",
       "    .dataframe tbody tr th {\n",
       "        vertical-align: top;\n",
       "    }\n",
       "\n",
       "    .dataframe thead th {\n",
       "        text-align: right;\n",
       "    }\n",
       "</style>\n",
       "<table border=\"1\" class=\"dataframe\">\n",
       "  <thead>\n",
       "    <tr style=\"text-align: right;\">\n",
       "      <th></th>\n",
       "      <th>sentences</th>\n",
       "      <th>sentiment</th>\n",
       "    </tr>\n",
       "  </thead>\n",
       "  <tbody>\n",
       "    <tr>\n",
       "      <th>0</th>\n",
       "      <td>Kindness ripples actions, creating positive im...</td>\n",
       "      <td>positive</td>\n",
       "    </tr>\n",
       "    <tr>\n",
       "      <th>1</th>\n",
       "      <td>Every challenge I face opportunity growth lear...</td>\n",
       "      <td>positive</td>\n",
       "    </tr>\n",
       "    <tr>\n",
       "      <th>2</th>\n",
       "      <td>Gratitude fills heart simple pleasures life.</td>\n",
       "      <td>positive</td>\n",
       "    </tr>\n",
       "    <tr>\n",
       "      <th>3</th>\n",
       "      <td>I beacon positivity, radiating joy around me.</td>\n",
       "      <td>positive</td>\n",
       "    </tr>\n",
       "    <tr>\n",
       "      <th>4</th>\n",
       "      <td>The laughter loved ones music soul.</td>\n",
       "      <td>positive</td>\n",
       "    </tr>\n",
       "    <tr>\n",
       "      <th>...</th>\n",
       "      <td>...</td>\n",
       "      <td>...</td>\n",
       "    </tr>\n",
       "    <tr>\n",
       "      <th>468</th>\n",
       "      <td>Each step forward met doubt uncertainty.</td>\n",
       "      <td>negative</td>\n",
       "    </tr>\n",
       "    <tr>\n",
       "      <th>470</th>\n",
       "      <td>It feels like I'm wandering maze exit.</td>\n",
       "      <td>negative</td>\n",
       "    </tr>\n",
       "    <tr>\n",
       "      <th>473</th>\n",
       "      <td>The days pass monotonous haze dissatisfaction.</td>\n",
       "      <td>negative</td>\n",
       "    </tr>\n",
       "    <tr>\n",
       "      <th>475</th>\n",
       "      <td>The weight regret burden I carry every day.</td>\n",
       "      <td>negative</td>\n",
       "    </tr>\n",
       "    <tr>\n",
       "      <th>476</th>\n",
       "      <td>It feels like I'm running place, making progress.</td>\n",
       "      <td>negative</td>\n",
       "    </tr>\n",
       "  </tbody>\n",
       "</table>\n",
       "<p>345 rows × 2 columns</p>\n",
       "</div>"
      ],
      "text/plain": [
       "                                             sentences sentiment\n",
       "0    Kindness ripples actions, creating positive im...  positive\n",
       "1    Every challenge I face opportunity growth lear...  positive\n",
       "2         Gratitude fills heart simple pleasures life.  positive\n",
       "3        I beacon positivity, radiating joy around me.  positive\n",
       "4                  The laughter loved ones music soul.  positive\n",
       "..                                                 ...       ...\n",
       "468           Each step forward met doubt uncertainty.  negative\n",
       "470             It feels like I'm wandering maze exit.  negative\n",
       "473     The days pass monotonous haze dissatisfaction.  negative\n",
       "475        The weight regret burden I carry every day.  negative\n",
       "476  It feels like I'm running place, making progress.  negative\n",
       "\n",
       "[345 rows x 2 columns]"
      ]
     },
     "execution_count": 220,
     "metadata": {},
     "output_type": "execute_result"
    }
   ],
   "source": [
    "df"
   ]
  },
  {
   "cell_type": "code",
   "execution_count": 221,
   "id": "a859fce3-98e8-412f-b9d9-7879eab142f8",
   "metadata": {},
   "outputs": [],
   "source": [
    "from nltk.stem.porter import PorterStemmer\n",
    "\n",
    "ps=PorterStemmer()\n",
    "def stem_words(text):\n",
    "    return \" \".join([ps.stem(word) for word in text.split() ])"
   ]
  },
  {
   "cell_type": "code",
   "execution_count": 222,
   "id": "9f95f654-ce2d-406a-8a31-0dccec94ef7a",
   "metadata": {},
   "outputs": [],
   "source": [
    "df[\"sentences\"]= df[\"sentences\"].apply(stem_words)"
   ]
  },
  {
   "cell_type": "code",
   "execution_count": 223,
   "id": "43b5d44d-cf88-4e1a-9400-36f20f9fb273",
   "metadata": {},
   "outputs": [
    {
     "data": {
      "text/html": [
       "<div>\n",
       "<style scoped>\n",
       "    .dataframe tbody tr th:only-of-type {\n",
       "        vertical-align: middle;\n",
       "    }\n",
       "\n",
       "    .dataframe tbody tr th {\n",
       "        vertical-align: top;\n",
       "    }\n",
       "\n",
       "    .dataframe thead th {\n",
       "        text-align: right;\n",
       "    }\n",
       "</style>\n",
       "<table border=\"1\" class=\"dataframe\">\n",
       "  <thead>\n",
       "    <tr style=\"text-align: right;\">\n",
       "      <th></th>\n",
       "      <th>sentences</th>\n",
       "      <th>sentiment</th>\n",
       "    </tr>\n",
       "  </thead>\n",
       "  <tbody>\n",
       "    <tr>\n",
       "      <th>0</th>\n",
       "      <td>kind rippl actions, creat posit impact.</td>\n",
       "      <td>positive</td>\n",
       "    </tr>\n",
       "    <tr>\n",
       "      <th>1</th>\n",
       "      <td>everi challeng i face opportun growth learning.</td>\n",
       "      <td>positive</td>\n",
       "    </tr>\n",
       "    <tr>\n",
       "      <th>2</th>\n",
       "      <td>gratitud fill heart simpl pleasur life.</td>\n",
       "      <td>positive</td>\n",
       "    </tr>\n",
       "    <tr>\n",
       "      <th>3</th>\n",
       "      <td>i beacon positivity, radiat joy around me.</td>\n",
       "      <td>positive</td>\n",
       "    </tr>\n",
       "    <tr>\n",
       "      <th>4</th>\n",
       "      <td>the laughter love one music soul.</td>\n",
       "      <td>positive</td>\n",
       "    </tr>\n",
       "    <tr>\n",
       "      <th>...</th>\n",
       "      <td>...</td>\n",
       "      <td>...</td>\n",
       "    </tr>\n",
       "    <tr>\n",
       "      <th>468</th>\n",
       "      <td>each step forward met doubt uncertainty.</td>\n",
       "      <td>negative</td>\n",
       "    </tr>\n",
       "    <tr>\n",
       "      <th>470</th>\n",
       "      <td>it feel like i'm wander maze exit.</td>\n",
       "      <td>negative</td>\n",
       "    </tr>\n",
       "    <tr>\n",
       "      <th>473</th>\n",
       "      <td>the day pass monoton haze dissatisfaction.</td>\n",
       "      <td>negative</td>\n",
       "    </tr>\n",
       "    <tr>\n",
       "      <th>475</th>\n",
       "      <td>the weight regret burden i carri everi day.</td>\n",
       "      <td>negative</td>\n",
       "    </tr>\n",
       "    <tr>\n",
       "      <th>476</th>\n",
       "      <td>it feel like i'm run place, make progress.</td>\n",
       "      <td>negative</td>\n",
       "    </tr>\n",
       "  </tbody>\n",
       "</table>\n",
       "<p>345 rows × 2 columns</p>\n",
       "</div>"
      ],
      "text/plain": [
       "                                           sentences sentiment\n",
       "0            kind rippl actions, creat posit impact.  positive\n",
       "1    everi challeng i face opportun growth learning.  positive\n",
       "2            gratitud fill heart simpl pleasur life.  positive\n",
       "3         i beacon positivity, radiat joy around me.  positive\n",
       "4                  the laughter love one music soul.  positive\n",
       "..                                               ...       ...\n",
       "468         each step forward met doubt uncertainty.  negative\n",
       "470               it feel like i'm wander maze exit.  negative\n",
       "473       the day pass monoton haze dissatisfaction.  negative\n",
       "475      the weight regret burden i carri everi day.  negative\n",
       "476       it feel like i'm run place, make progress.  negative\n",
       "\n",
       "[345 rows x 2 columns]"
      ]
     },
     "execution_count": 223,
     "metadata": {},
     "output_type": "execute_result"
    }
   ],
   "source": [
    "df"
   ]
  },
  {
   "cell_type": "code",
   "execution_count": 224,
   "id": "1f9519c5-5e37-40c2-8842-fb3ef7b251ac",
   "metadata": {},
   "outputs": [],
   "source": [
    "X= df.iloc[:,0:1]\n",
    "y=df['sentiment']"
   ]
  },
  {
   "cell_type": "code",
   "execution_count": 225,
   "id": "d18ba282-13cb-4a09-a633-5eda597c9355",
   "metadata": {},
   "outputs": [
    {
     "data": {
      "text/html": [
       "<div>\n",
       "<style scoped>\n",
       "    .dataframe tbody tr th:only-of-type {\n",
       "        vertical-align: middle;\n",
       "    }\n",
       "\n",
       "    .dataframe tbody tr th {\n",
       "        vertical-align: top;\n",
       "    }\n",
       "\n",
       "    .dataframe thead th {\n",
       "        text-align: right;\n",
       "    }\n",
       "</style>\n",
       "<table border=\"1\" class=\"dataframe\">\n",
       "  <thead>\n",
       "    <tr style=\"text-align: right;\">\n",
       "      <th></th>\n",
       "      <th>sentences</th>\n",
       "    </tr>\n",
       "  </thead>\n",
       "  <tbody>\n",
       "    <tr>\n",
       "      <th>0</th>\n",
       "      <td>kind rippl actions, creat posit impact.</td>\n",
       "    </tr>\n",
       "    <tr>\n",
       "      <th>1</th>\n",
       "      <td>everi challeng i face opportun growth learning.</td>\n",
       "    </tr>\n",
       "    <tr>\n",
       "      <th>2</th>\n",
       "      <td>gratitud fill heart simpl pleasur life.</td>\n",
       "    </tr>\n",
       "    <tr>\n",
       "      <th>3</th>\n",
       "      <td>i beacon positivity, radiat joy around me.</td>\n",
       "    </tr>\n",
       "    <tr>\n",
       "      <th>4</th>\n",
       "      <td>the laughter love one music soul.</td>\n",
       "    </tr>\n",
       "    <tr>\n",
       "      <th>...</th>\n",
       "      <td>...</td>\n",
       "    </tr>\n",
       "    <tr>\n",
       "      <th>468</th>\n",
       "      <td>each step forward met doubt uncertainty.</td>\n",
       "    </tr>\n",
       "    <tr>\n",
       "      <th>470</th>\n",
       "      <td>it feel like i'm wander maze exit.</td>\n",
       "    </tr>\n",
       "    <tr>\n",
       "      <th>473</th>\n",
       "      <td>the day pass monoton haze dissatisfaction.</td>\n",
       "    </tr>\n",
       "    <tr>\n",
       "      <th>475</th>\n",
       "      <td>the weight regret burden i carri everi day.</td>\n",
       "    </tr>\n",
       "    <tr>\n",
       "      <th>476</th>\n",
       "      <td>it feel like i'm run place, make progress.</td>\n",
       "    </tr>\n",
       "  </tbody>\n",
       "</table>\n",
       "<p>345 rows × 1 columns</p>\n",
       "</div>"
      ],
      "text/plain": [
       "                                           sentences\n",
       "0            kind rippl actions, creat posit impact.\n",
       "1    everi challeng i face opportun growth learning.\n",
       "2            gratitud fill heart simpl pleasur life.\n",
       "3         i beacon positivity, radiat joy around me.\n",
       "4                  the laughter love one music soul.\n",
       "..                                               ...\n",
       "468         each step forward met doubt uncertainty.\n",
       "470               it feel like i'm wander maze exit.\n",
       "473       the day pass monoton haze dissatisfaction.\n",
       "475      the weight regret burden i carri everi day.\n",
       "476       it feel like i'm run place, make progress.\n",
       "\n",
       "[345 rows x 1 columns]"
      ]
     },
     "execution_count": 225,
     "metadata": {},
     "output_type": "execute_result"
    }
   ],
   "source": [
    "X"
   ]
  },
  {
   "cell_type": "code",
   "execution_count": 226,
   "id": "c6834f17-1aaa-43ad-b91b-6d33c7081a56",
   "metadata": {},
   "outputs": [
    {
     "data": {
      "text/plain": [
       "0      positive\n",
       "1      positive\n",
       "2      positive\n",
       "3      positive\n",
       "4      positive\n",
       "         ...   \n",
       "468    negative\n",
       "470    negative\n",
       "473    negative\n",
       "475    negative\n",
       "476    negative\n",
       "Name: sentiment, Length: 345, dtype: object"
      ]
     },
     "execution_count": 226,
     "metadata": {},
     "output_type": "execute_result"
    }
   ],
   "source": [
    "y"
   ]
  },
  {
   "cell_type": "code",
   "execution_count": 227,
   "id": "e2e01076-c92e-4c93-9d7b-dbb121c015c3",
   "metadata": {},
   "outputs": [],
   "source": [
    "import sklearn"
   ]
  },
  {
   "cell_type": "code",
   "execution_count": 228,
   "id": "52c008c3-2fb1-4683-8863-5ff569fb462b",
   "metadata": {},
   "outputs": [],
   "source": [
    "from sklearn.preprocessing import LabelEncoder\n",
    "encoder = LabelEncoder()\n",
    "y= encoder.fit_transform(y)"
   ]
  },
  {
   "cell_type": "code",
   "execution_count": 229,
   "id": "2b801ec7-3369-4393-a066-04bfbd0d1eb7",
   "metadata": {},
   "outputs": [
    {
     "data": {
      "text/plain": [
       "array([1, 1, 1, 1, 1, 1, 1, 1, 1, 1, 1, 1, 1, 1, 1, 1, 1, 1, 1, 1, 1, 1,\n",
       "       1, 1, 1, 1, 1, 1, 1, 1, 1, 1, 1, 1, 1, 1, 1, 1, 1, 1, 1, 1, 1, 1,\n",
       "       1, 1, 1, 1, 1, 1, 1, 1, 1, 1, 1, 1, 1, 1, 1, 1, 1, 1, 1, 1, 1, 1,\n",
       "       1, 1, 1, 1, 1, 1, 1, 1, 1, 1, 1, 1, 1, 1, 1, 1, 1, 1, 1, 1, 1, 1,\n",
       "       1, 1, 1, 1, 1, 1, 1, 1, 1, 0, 0, 0, 0, 0, 0, 0, 0, 0, 0, 0, 0, 0,\n",
       "       0, 0, 0, 0, 0, 0, 0, 0, 0, 0, 0, 0, 0, 0, 0, 0, 0, 0, 0, 0, 0, 0,\n",
       "       0, 0, 0, 0, 0, 0, 0, 0, 0, 0, 0, 0, 0, 0, 0, 0, 0, 0, 0, 0, 0, 0,\n",
       "       0, 0, 0, 0, 0, 0, 0, 0, 0, 0, 0, 0, 0, 0, 0, 0, 0, 0, 0, 0, 0, 0,\n",
       "       0, 0, 0, 0, 0, 0, 0, 0, 0, 0, 0, 0, 0, 0, 0, 0, 0, 0, 0, 0, 1, 1,\n",
       "       1, 1, 1, 1, 1, 1, 1, 1, 1, 1, 1, 1, 1, 1, 1, 1, 1, 1, 1, 1, 1, 1,\n",
       "       1, 1, 1, 1, 1, 1, 1, 1, 1, 1, 1, 1, 1, 1, 1, 1, 1, 1, 1, 1, 1, 1,\n",
       "       1, 1, 1, 1, 1, 1, 1, 1, 1, 1, 1, 1, 1, 1, 1, 1, 1, 1, 1, 1, 1, 1,\n",
       "       1, 1, 0, 0, 0, 0, 0, 0, 0, 0, 0, 0, 0, 0, 0, 0, 0, 0, 0, 0, 0, 0,\n",
       "       0, 0, 0, 0, 0, 0, 0, 0, 0, 0, 0, 0, 0, 0, 0, 0, 0, 0, 0, 0, 0, 0,\n",
       "       0, 0, 0, 0, 0, 0, 0, 0, 0, 0, 0, 0, 0, 0, 0, 0, 0, 0, 0, 0, 0, 0,\n",
       "       0, 0, 0, 0, 0, 0, 0, 0, 0, 0, 0, 0, 0, 0, 0])"
      ]
     },
     "execution_count": 229,
     "metadata": {},
     "output_type": "execute_result"
    }
   ],
   "source": [
    "y"
   ]
  },
  {
   "cell_type": "code",
   "execution_count": 230,
   "id": "1fd729c6-d021-4d74-889a-febeb53ae4eb",
   "metadata": {},
   "outputs": [],
   "source": [
    "# from sklearn.model_selection import train_test_split\n",
    "X_train,X_test,y_train,y_test= train_test_split(X,y,test_size=0.2,random_state=1)"
   ]
  },
  {
   "cell_type": "code",
   "execution_count": 231,
   "id": "42b9313c-ce64-4604-8c8f-38af9de95a8a",
   "metadata": {},
   "outputs": [
    {
     "data": {
      "text/plain": [
       "(276, 1)"
      ]
     },
     "execution_count": 231,
     "metadata": {},
     "output_type": "execute_result"
    }
   ],
   "source": [
    "X_train.shape"
   ]
  },
  {
   "cell_type": "code",
   "execution_count": 232,
   "id": "b70bba6b-ed3e-4029-9a07-ad5e67dfdd5c",
   "metadata": {},
   "outputs": [],
   "source": [
    "# Applying BoW\n",
    "from sklearn.feature_extraction.text import CountVectorizer\n",
    "cv = CountVectorizer()"
   ]
  },
  {
   "cell_type": "code",
   "execution_count": 233,
   "id": "e357866d-38cf-4d38-952f-6f56c3a87701",
   "metadata": {},
   "outputs": [],
   "source": [
    "X_train_bow= cv.fit_transform(X_train[\"sentences\"]).toarray()\n",
    "X_test_bow= cv.transform(X_test[\"sentences\"]).toarray()"
   ]
  },
  {
   "cell_type": "code",
   "execution_count": 234,
   "id": "605cc8ab-4a09-4b38-ac92-1bef400d3d15",
   "metadata": {},
   "outputs": [
    {
     "data": {
      "text/plain": [
       "(276, 546)"
      ]
     },
     "execution_count": 234,
     "metadata": {},
     "output_type": "execute_result"
    }
   ],
   "source": [
    "X_train_bow.shape"
   ]
  },
  {
   "cell_type": "code",
   "execution_count": 235,
   "id": "56644b36-7bc0-479c-ad94-e8869a93efcf",
   "metadata": {},
   "outputs": [],
   "source": [
    "from sklearn.metrics import accuracy_score,confusion_matrix"
   ]
  },
  {
   "cell_type": "code",
   "execution_count": 236,
   "id": "d948da62-ad4c-4ec8-af16-ba4b01bf3677",
   "metadata": {},
   "outputs": [
    {
     "data": {
      "text/plain": [
       "1.0"
      ]
     },
     "execution_count": 236,
     "metadata": {},
     "output_type": "execute_result"
    }
   ],
   "source": [
    "# Algorithm 2 (Random Forest)\n",
    "from sklearn.ensemble import RandomForestClassifier\n",
    "rf = RandomForestClassifier()\n",
    "\n",
    "rf.fit(X_train_bow,y_train)\n",
    "y_pred= rf.predict(X_test_bow)\n",
    "accuracy_score(y_test,y_pred)"
   ]
  },
  {
   "cell_type": "code",
   "execution_count": 247,
   "id": "6a345131-ebe2-4f06-a30b-5042afca0f82",
   "metadata": {},
   "outputs": [
    {
     "data": {
      "text/plain": [
       "'positive'"
      ]
     },
     "execution_count": 247,
     "metadata": {},
     "output_type": "execute_result"
    }
   ],
   "source": [
    "def predict_sentiment(text):\n",
    "    text = remove_tags(text)\n",
    "    text2 = text.lower()\n",
    "    stemmed_sent= stem_words(text2) \n",
    "    text_bow = cv.transform([stemmed_sent]).toarray()\n",
    "    prediction = rf.predict(text_bow)\n",
    "    sentiment = encoder.inverse_transform(prediction)[0]\n",
    "    return sentiment\n",
    "\n",
    "# Example usage\n",
    "predict_sentiment(\"Wonderful weather\")"
   ]
  },
  {
   "cell_type": "code",
   "execution_count": 252,
   "id": "30b6cd0f-7f5e-4122-80e0-cb2b65f8700c",
   "metadata": {},
   "outputs": [
    {
     "data": {
      "text/plain": [
       "array([[35,  3],\n",
       "       [ 1, 30]], dtype=int64)"
      ]
     },
     "execution_count": 252,
     "metadata": {},
     "output_type": "execute_result"
    }
   ],
   "source": [
    "confusion_matrix(y_test,y_pred)"
   ]
  },
  {
   "cell_type": "code",
   "execution_count": 249,
   "id": "0fa5b3ae-e7bf-4492-ab05-777467b66d78",
   "metadata": {},
   "outputs": [],
   "source": [
    "# # Algorithm 1 (Gaussian Naive Bayes)\n",
    "# from sklearn.naive_bayes import GaussianNB\n",
    "# gnb= GaussianNB()\n",
    "\n",
    "# gnb.fit(X_train_bow,y_train)\n",
    "\n",
    "# y_pred= gnb.predict(X_test_bow)\n",
    "# from sklearn.metrics import accuracy_score,confusion_matrix\n",
    "# accuracy_score(y_test,y_pred)"
   ]
  },
  {
   "cell_type": "code",
   "execution_count": null,
   "id": "d28b6f2d-968a-423e-92bf-24f963e58ae2",
   "metadata": {},
   "outputs": [],
   "source": []
  }
 ],
 "metadata": {
  "kernelspec": {
   "display_name": "Python 3 (ipykernel)",
   "language": "python",
   "name": "python3"
  },
  "language_info": {
   "codemirror_mode": {
    "name": "ipython",
    "version": 3
   },
   "file_extension": ".py",
   "mimetype": "text/x-python",
   "name": "python",
   "nbconvert_exporter": "python",
   "pygments_lexer": "ipython3",
   "version": "3.11.5"
  }
 },
 "nbformat": 4,
 "nbformat_minor": 5
}
